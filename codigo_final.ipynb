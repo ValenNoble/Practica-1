{
  "nbformat": 4,
  "nbformat_minor": 0,
  "metadata": {
    "colab": {
      "provenance": [],
      "authorship_tag": "ABX9TyMxDqA3cBrPJUSpgKFYdkRM",
      "include_colab_link": true
    },
    "kernelspec": {
      "name": "python3",
      "display_name": "Python 3"
    },
    "language_info": {
      "name": "python"
    }
  },
  "cells": [
    {
      "cell_type": "markdown",
      "metadata": {
        "id": "view-in-github",
        "colab_type": "text"
      },
      "source": [
        "<a href=\"https://colab.research.google.com/github/ValenNoble/Practica-1/blob/main/codigo_final.ipynb\" target=\"_parent\"><img src=\"https://colab.research.google.com/assets/colab-badge.svg\" alt=\"Open In Colab\"/></a>"
      ]
    },
    {
      "cell_type": "code",
      "execution_count": 12,
      "metadata": {
        "colab": {
          "base_uri": "https://localhost:8080/"
        },
        "id": "5B_qsdrSCwZ9",
        "outputId": "c9da4453-8575-47dc-8e08-9b743e7abeed"
      },
      "outputs": [
        {
          "output_type": "stream",
          "name": "stdout",
          "text": [
            "fatal: destination path 'Practica-1' already exists and is not an empty directory.\n"
          ]
        }
      ],
      "source": [
        "!git clone https://github.com/ValenNoble/Practica-1.git"
      ]
    },
    {
      "cell_type": "code",
      "source": [
        "import re"
      ],
      "metadata": {
        "id": "nd-VgG2JEFF0"
      },
      "execution_count": 24,
      "outputs": []
    },
    {
      "cell_type": "code",
      "source": [
        "file = open('/content/Practica-1/data/mbox.txt')\n",
        "pattern = 'New Revision: (\\d+)'\n",
        "data = []\n",
        "\n",
        "for line in file:\n",
        "    line = line.rstrip()\n",
        "    result = re.findall(pattern, line)\n",
        "    if result:\n",
        "      data.append(result)\n",
        "\n",
        "data, len(data)\n",
        "\n",
        "total = 0\n",
        "for row in data:\n",
        "  total = total + int(row[0])\n",
        "\n",
        "total, len(data)\n",
        "\n",
        "promedio = total / len(data)\n",
        "\n",
        "promedio"
      ],
      "metadata": {
        "colab": {
          "base_uri": "https://localhost:8080/"
        },
        "id": "opD1DdBGHNwj",
        "outputId": "fa38cb7c-0058-48fb-d5ed-828a3a718ef4"
      },
      "execution_count": 35,
      "outputs": [
        {
          "output_type": "execute_result",
          "data": {
            "text/plain": [
              "38549.79497206704"
            ]
          },
          "metadata": {},
          "execution_count": 35
        }
      ]
    },
    {
      "cell_type": "code",
      "source": [
        "file = open('/content/Practica-1/data/mbox-short.txt')\n",
        "pattern = 'New Revision: (\\d+)'\n",
        "data = []\n",
        "\n",
        "for line in file:\n",
        "    line = line.rstrip()\n",
        "    result = re.findall(pattern, line)\n",
        "    if result:\n",
        "      data.append(result)\n",
        "\n",
        "data, len(data)\n",
        "\n",
        "total = 0\n",
        "for row in data:\n",
        "  total = total + int(row[0])\n",
        "\n",
        "total, len(data)\n",
        "\n",
        "promedio = total / len(data)\n",
        "\n",
        "promedio"
      ],
      "metadata": {
        "colab": {
          "base_uri": "https://localhost:8080/"
        },
        "id": "mZ4y_x1oMyrb",
        "outputId": "ba75a26c-58c2-47d2-b28b-128b9af27591"
      },
      "execution_count": 36,
      "outputs": [
        {
          "output_type": "execute_result",
          "data": {
            "text/plain": [
              "39756.92592592593"
            ]
          },
          "metadata": {},
          "execution_count": 36
        }
      ]
    }
  ]
}