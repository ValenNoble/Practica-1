{
  "nbformat": 4,
  "nbformat_minor": 0,
  "metadata": {
    "colab": {
      "provenance": [],
      "authorship_tag": "ABX9TyNPPRBQullyVEsEmtu7m8W/",
      "include_colab_link": true
    },
    "kernelspec": {
      "name": "python3",
      "display_name": "Python 3"
    },
    "language_info": {
      "name": "python"
    }
  },
  "cells": [
    {
      "cell_type": "markdown",
      "metadata": {
        "id": "view-in-github",
        "colab_type": "text"
      },
      "source": [
        "<a href=\"https://colab.research.google.com/github/ValenNoble/Practica-1/blob/main/Untitled10.ipynb\" target=\"_parent\"><img src=\"https://colab.research.google.com/assets/colab-badge.svg\" alt=\"Open In Colab\"/></a>"
      ]
    },
    {
      "cell_type": "code",
      "execution_count": 2,
      "metadata": {
        "colab": {
          "base_uri": "https://localhost:8080/"
        },
        "id": "5B_qsdrSCwZ9",
        "outputId": "4d7fef32-9399-47c4-e07e-bb2db022c529"
      },
      "outputs": [
        {
          "output_type": "stream",
          "name": "stdout",
          "text": [
            "Cloning into 'Practica-1'...\n",
            "remote: Enumerating objects: 9, done.\u001b[K\n",
            "remote: Counting objects: 100% (9/9), done.\u001b[K\n",
            "remote: Compressing objects: 100% (7/7), done.\u001b[K\n",
            "remote: Total 9 (delta 0), reused 7 (delta 0), pack-reused 0\u001b[K\n",
            "Receiving objects: 100% (9/9), 596.81 KiB | 2.00 MiB/s, done.\n"
          ]
        }
      ],
      "source": [
        "!git clone https://github.com/ValenNoble/Practica-1.git"
      ]
    },
    {
      "cell_type": "code",
      "source": [
        "import re\n",
        "\n",
        "\n"
      ],
      "metadata": {
        "id": "nd-VgG2JEFF0"
      },
      "execution_count": 5,
      "outputs": []
    },
    {
      "cell_type": "code",
      "source": [
        "file = open('/content/Practica-1/data/mbox.txt')\n",
        "pattern = 'New Revision: (.+)'\n",
        "data = []\n",
        "\n",
        "for line in file:\n",
        "    line = line.rstrip()\n",
        "    result = re.findall(pattern, line)\n",
        "if result:\n",
        "    data.append(result)\n",
        "\n",
        "data, len(data)"
      ],
      "metadata": {
        "colab": {
          "base_uri": "https://localhost:8080/"
        },
        "id": "opD1DdBGHNwj",
        "outputId": "4d75f5f2-484c-459c-93a8-7d4a8c45c318"
      },
      "execution_count": 25,
      "outputs": [
        {
          "output_type": "execute_result",
          "data": {
            "text/plain": [
              "([], 0)"
            ]
          },
          "metadata": {},
          "execution_count": 25
        }
      ]
    },
    {
      "cell_type": "code",
      "source": [
        "file = open('/content/Practica-1/data/mbox-short.txt')\n",
        "pattern = 'New Revison: (.+)'\n",
        "data = []\n",
        "\n",
        "for line in file:\n",
        "    line = line.rstrip()\n",
        "    result = re.findall(pattern, line)\n",
        "if result:\n",
        "    data.append(result)\n",
        "\n",
        "data, len(data)"
      ],
      "metadata": {
        "colab": {
          "base_uri": "https://localhost:8080/"
        },
        "id": "mZ4y_x1oMyrb",
        "outputId": "1975d7a6-ad10-42bc-cdb7-956576d2aaf1"
      },
      "execution_count": 20,
      "outputs": [
        {
          "output_type": "execute_result",
          "data": {
            "text/plain": [
              "([], 0)"
            ]
          },
          "metadata": {},
          "execution_count": 20
        }
      ]
    }
  ]
}